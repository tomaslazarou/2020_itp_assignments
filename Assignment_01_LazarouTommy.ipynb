{
 "cells": [
  {
   "cell_type": "markdown",
   "metadata": {},
   "source": [
    "# Introduction to Programming (Online 2020)\n",
    "## Assignment 1"
   ],
   "execution_count": null,
   "outputs": []
  },
  {
   "cell_type": "markdown",
   "metadata": {},
   "source": [
    "## Question 1\n",
    "### Basic mathematical operations\n",
    "\n",
    "Basic mathematical operations between two integers:\n",
    "\n",
    "Using 16 and 5 as the values, perform the following operations:\n",
    "+ addition\n",
    "+ subtraction\n",
    "+ multiplication\n",
    "+ division\n",
    "+ power (16^5)\n",
    "\n",
    "You should output the type of the result as well as the result. eg:\n",
    "+ operation: 16 + 5 \n",
    "+ output: < class 'int'> 21"
   ],
   "execution_count": null,
   "outputs": []
  },
  {
   "cell_type": "code",
   "execution_count": null,
   "metadata": {},
   "outputs": [],
   "source": [
    "#addition\n",
    "print(\"addition:\", \"16\", \"+\", \"5\", \"=\", 16 + 5, type(16 + 5))\n",
    "\n",
    "#subtraction\n",
    "print(\"subtraction1:\", \"16\", \"-\", \"5\", \"=\", 16 - 5, type(16 - 5))\n",
    "print(\"subtraction2:\", \"5\", \"-\", \"16\", \"=\", 5 - 16, type(5 - 16))\n",
    "\n",
    "#multiplication\n",
    "print(\"multiplication:\", \"16\", \"*\", \"5\", \"=\", 16 * 5, type(16 * 5))\n",
    "\n",
    "#division\n",
    "print(\"division1:\", \"16\", \"/\", \"5\", \"=\", 16 / 5, type(16 / 5))\n",
    "print(\"division2:\", \"5\", \"/\", \"16\", \"=\", 5 / 16, type(5 / 16))\n",
    "\n",
    "#power\n",
    "print(\"power1:\", \"16\", \"^\", \"5\", 16 ** 5, type(16 ** 5))\n",
    "print(\"power2:\", \"5\", \"^\", \"16\", 5 ** 16, type(5 ** 16))"
   ]
  },
  {
   "cell_type": "markdown",
   "metadata": {},
   "source": [
    "### A note on `assert` statements\n",
    "\n",
    "Assert statements are used as checks that run at some point during the execution of a program. As an example, this could be after some data is downloaded from the internet, and you need to make sure that it was downloaded correctly before processing it.\n",
    "\n",
    "The structure of an assert statements is as follows:\n",
    "    + assert <conditional_expression>, <error_message_to_print>\n",
    "\n",
    "When the condition returns `True`, this line will not do anything, and the program will continue to execute. When the expression returns `False` though, the assert statement will raise an `AssertionError`.\n",
    "\n",
    "In the assignments, assert statements are used to define test cases that check whether your solution is correct or not.\n",
    "\n",
    "For example, in Question 2 of this assignment, the first assert statement checks whether the `result_addition` variable is equal to the sum of the two numbers that were input.\n",
    "If `results_addition` does not equal `number1 + number2` then an `AssertionError` will be thrown with the message showing the values for result_addition, number1, and number2 in expression form.\n",
    "\n",
    "If your code passes all the checks, then the final print statment will be displayed."
   ],
   "execution_count": null,
   "outputs": []
  },
  {
   "cell_type": "code",
   "execution_count": null,
   "metadata": {},
   "outputs": [],
   "source": [
    "assert False"
   ]
  },
  {
   "cell_type": "markdown",
   "metadata": {},
   "source": [
    "## Question 2\n",
    "### Variables\n",
    "\n",
    "Perform the same operations as in Question 1, except use the input() operation to get two integers. In addition store the result of each operation in a variable called result_< operation > eg result_addition for addition (Assume that the user will always enter valid input)."
   ],
   "execution_count": null,
   "outputs": []
  },
  {
   "cell_type": "code",
   "execution_count": 1,
   "metadata": {},
   "outputs": [
    {
     "output_type": "stream",
     "name": "stdout",
     "text": "All assert checks have passed\n"
    }
   ],
   "source": [
    "number1 = int(input())\n",
    "number2 = int(input())\n",
    "\n",
    "# Replace '0' with the expression for each operation\n",
    "# ADDITION\n",
    "result_addition = number1 + number2\n",
    "# SUBTRACTION\n",
    "result_subtraction = number1 - number2\n",
    "# MULTIPLICATION\n",
    "result_multiplication = number1 * number2\n",
    "# DIVISION\n",
    "result_division = number1 / number2\n",
    "# POWER\n",
    "result_power = number1 ** number2\n",
    "\n",
    "# THIS IS TO CHECK YOUR CODE, DON'T CHANGE THIS\n",
    "# IF YOUR CODE IS CORRECT YOU WILL NOT GET ANY ERRORS\n",
    "assert result_addition == number1 + number2, \"{} != {} + {}\".format(result_addition, number1, number2)\n",
    "assert result_subtraction == number1 - number2, \"{} != {} - {}\".format(result_addition, number1, number2)\n",
    "assert result_multiplication == number1 * number2, \"{} != {} * {}\".format(result_addition, number1, number2)\n",
    "assert result_division == number1 / number2, \"{} != {} / {}\".format(result_addition, number1, number2)\n",
    "assert result_power == number1 ** number2, \"{} != {} ** {}\".format(result_addition, number1, number2)\n",
    "\n",
    "print('All assert checks have passed')"
   ]
  },
  {
   "cell_type": "markdown",
   "metadata": {},
   "source": [
    "## Question 3\n",
    "### Conditionals\n",
    "\n",
    "#### 3.1)\n",
    "Write code to get an integer from the user (assume the user will always enter a integer) as input. \n",
    "\n",
    "If the integer is less than **14** print \"**The number is less than 14**\" and if the number is greater than or equal to 14 print \"**The number is 14 or larger**\"."
   ],
   "execution_count": null,
   "outputs": []
  },
  {
   "cell_type": "code",
   "execution_count": null,
   "metadata": {
    "collapsed": true,
    "jupyter": {
     "outputs_hidden": true
    }
   },
   "outputs": [],
   "source": [
    "# CODE FOR 3.1\n",
    "n3 = int(input())\n",
    "if n3 < 14:\n",
    "    print(\"The number is less than 14\")\n",
    "if n3 >= 14:\n",
    "    print(\"The number is 14 or larger\")"
   ]
  },
  {
   "cell_type": "markdown",
   "metadata": {},
   "source": [
    "#### 3.2)\n",
    "Extend the code from 3.1 to also check whether the number is **a multiple of 11**. There are four options that can be output by your code now:\n",
    "+ The number is **a multiple of 11** and is **less than 14**.\n",
    "+ The number is **a multiple of 11** and is **greater than or equal to 14**.\n",
    "+ The number is **not a multiple of 11** and is **less than 14**.\n",
    "+ The number is **not a multiple of 11** and is **greater than or equal to 14**."
   ],
   "execution_count": null,
   "outputs": []
  },
  {
   "cell_type": "code",
   "execution_count": null,
   "metadata": {},
   "outputs": [],
   "source": [
    "# CODE FOR 3.2\n",
    "n3 = int(input())\n",
    "if n3 < 14 and n3 % 11 == 0:\n",
    "    print(\"The number is less than 14 and a multiple of 11\")\n",
    "if n3 < 14 and n3 % 11 != 0:\n",
    "    print(\"The number is less than 14 and a NOT a multiple of 11\")\n",
    "if n3 >= 14 and n3 % 11 == 0:\n",
    "    print(\"The number is 14 or larger and a multiple of 11\")\n",
    "if n3 >= 14 and n3 % 11 != 0:\n",
    "     print (\"The number is 14 or larger and NOT a multiple of 11\")"
   ]
  },
  {
   "cell_type": "markdown",
   "metadata": {},
   "source": [
    "#### 3.3)\n",
    "Extend the code from 3.2 to check whether the user has input an integer. If the number is not an integer print \"Error, the value which was input is not an integer\".\n",
    "\n",
    "There are now 5 possible output messages:\n",
    "+ Error, the value which was input is not an integer.\n",
    "+ The number is **a multiple of 11** and is **less than 14**.\n",
    "+ The number is **a multiple of 11** and is **greater than or equal to 14**.\n",
    "+ The number is **not a multiple of 11** and is **less than 14**.\n",
    "+ The number is **not a multiple of 11** and is **greater than or equal to 14**."
   ],
   "execution_count": null,
   "outputs": []
  },
  {
   "cell_type": "code",
   "execution_count": 6,
   "metadata": {},
   "outputs": [
    {
     "output_type": "stream",
     "name": "stdout",
     "text": "The number entered is NOT an integer, GORL\n"
    }
   ],
   "source": [
    "# CODE FOR 3.3\n",
    "try:\n",
    "        n3 = int(input(\"Enter an integer, GORL\"))\n",
    "        if n3 < 14 and n3 % 11 == 0:\n",
    "            print(\"The number is less than 14 and a multiple of 11\")\n",
    "        if n3 < 14 and n3 % 11 != 0:\n",
    "            print(\"The number is less than 14 and a NOT a multiple of 11\")\n",
    "        if n3 >= 14 and n3 % 11 == 0:\n",
    "            print(\"The number is 14 or larger and a multiple of 11\")\n",
    "        if n3 >= 14 and n3 % 11 != 0:\n",
    "            print (\"The number is 14 or larger and NOT a multiple of 11\")\n",
    "except ValueError:\n",
    "        print (\"The number entered is NOT an integer, GORL\")\n",
    "    "
   ]
  },
  {
   "cell_type": "markdown",
   "metadata": {},
   "source": [
    "## Question 4\n",
    "### Looping\n",
    "\n",
    "For each of shapes print using the following characters:\n",
    "+ Start by using only the '*' character\n",
    "+ Use the row index as the character\n",
    "+ Use the column index as the character\n",
    "+ Use the cummulative index as the character\n",
    "\n",
    "**For all of these questions assume that the user will always enter integers and that (1 <= input <= 9)**\n",
    "\n",
    "### Example (printing a square of size 'n'):\n",
    "```\n",
    "n=4\n",
    "* * * *\n",
    "* * * *\n",
    "* * * *\n",
    "* * * *\n",
    "```"
   ],
   "execution_count": null,
   "outputs": []
  },
  {
   "cell_type": "code",
   "execution_count": 7,
   "metadata": {},
   "outputs": [
    {
     "output_type": "stream",
     "name": "stdout",
     "text": "* Character\n---------\n * * * *\n * * * *\n * * * *\n * * * *\nRow Index\n---------\n  0  0  0  0\n  1  1  1  1\n  2  2  2  2\n  3  3  3  3\nColumn Index\n---------\n  0  1  2  3\n  0  1  2  3\n  0  1  2  3\n  0  1  2  3\nCumulative Index\n---------\n  0  1  2  3\n  4  5  6  7\n  8  9 10 11\n 12 13 14 15\n"
    }
   ],
   "source": [
    "n = int(input(\"Enter n\"))\n",
    "\n",
    "# USING '*' AS THE CHARACTER\n",
    "print('* Character\\n---------')\n",
    "for j in range(n):\n",
    "    line = ''\n",
    "    for i in range(n):\n",
    "        line += '{:>2}'.format('*')\n",
    "    print(line)\n",
    "    \n",
    "# USING THE ROW INDEX AS THE CHARACTER\n",
    "print('Row Index\\n---------')\n",
    "for j in range(n):\n",
    "    line = ''\n",
    "    for i in range(n):\n",
    "        line += '{:>3}'.format(j)\n",
    "    print(line)\n",
    "    \n",
    "# USING THE COL INDEX AS THE CHARACTER\n",
    "print('Column Index\\n---------')\n",
    "for j in range(n):\n",
    "    line = ''\n",
    "    for i in range(n):\n",
    "        line += '{:>3}'.format(i)\n",
    "    print(line)\n",
    "\n",
    "# USING THE CUMULATIVE INDEX AS THE CHARACTER\n",
    "print('Cumulative Index\\n---------')\n",
    "for j in range(n):\n",
    "    line = ''\n",
    "    for i in range(n):\n",
    "        line += '{:>3}'.format(j * n + i)\n",
    "    print(line)"
   ]
  },
  {
   "cell_type": "markdown",
   "metadata": {},
   "source": [
    "#### 4.1)\n",
    "Print a rectangle with height **n** and width **m**\n",
    "\n",
    "**eg:**: n = 3, m = 2\n",
    "```\n",
    " * Character\n",
    "------------\n",
    "  * *\n",
    "  * *\n",
    "  * *\n",
    "  \n",
    "Row Index\n",
    "---------\n",
    "  0  0\n",
    "  1  1\n",
    "  2  2\n",
    "Column Index\n",
    "------------\n",
    "  0  1\n",
    "  0  1\n",
    "  0  1\n",
    "Cumulative Index\n",
    "----------------\n",
    "  0  1\n",
    "  2  3\n",
    "  4  5\n",
    "```"
   ],
   "execution_count": null,
   "outputs": []
  },
  {
   "cell_type": "code",
   "execution_count": 54,
   "metadata": {
    "collapsed": true,
    "jupyter": {
     "outputs_hidden": true
    }
   },
   "outputs": [
    {
     "output_type": "stream",
     "name": "stdout",
     "text": "* Character\n---------\n * *\n * *\n * *\nRow Index\n---------\n  0  0\n  1  1\n  2  2\nColumn Index\n---------\n  0  1\n  0  1\n  0  1\nCumulative Index\n---------\n  0  1\n  2  3\n  4  5\n"
    }
   ],
   "source": [
    "n = int(input(\"Enter n\"))\n",
    "m = int(input(\"Enter m\"))\n",
    "\n",
    "print(\"* Character\\n---------\")\n",
    "for j in range(n):                 #for variable j (Rows) in the range n (Rows)\n",
    "    line = ''                      # line = nothing --> placeholder?\n",
    "    for i in range (m):            # for i (Columns) in the range of the second integer (Columns)\n",
    "        line += '{:>2}'.format('*')         # new line definition: :># defines the justification of the output\n",
    "    print(line)\n",
    "\n",
    "print(\"Row Index\\n---------\")\n",
    "for j in range(n):\n",
    "    line = ''\n",
    "    for i in range(m):\n",
    "        line += '{:>3}'.format(j)\n",
    "    print(line)\n",
    "\n",
    "print(\"Column Index\\n---------\")\n",
    "for j in range(n):\n",
    "    line = ''\n",
    "    for i in range(m):\n",
    "        line += '{:>3}'.format(i)\n",
    "    print(line)\n",
    "\n",
    "print(\"Cumulative Index\\n---------\")\n",
    "for j in range(n):\n",
    "    line = ''\n",
    "    for i in range(m):\n",
    "        line += '{:>3}'.format((j * m) + i)\n",
    "    print(line)"
   ]
  },
  {
   "cell_type": "markdown",
   "metadata": {},
   "source": [
    "#### 4.2)\n",
    "Print an isosceles triangle with height and width equal to **n** and the right angled corner on the bottom left.\n",
    "\n",
    "Tip:\n",
    "\n",
    "For the cumulative index you can use the formula for triangle number to calculate the offset of the first column of each row.\n",
    "\n",
    "https://www.mathsisfun.com/algebra/triangular-numbers.html\n",
    "\n",
    "**eg:**: n = 5\n",
    "```\n",
    "\n",
    "* Character\n",
    "---------\n",
    "  *\n",
    "  * *\n",
    "  * * * \n",
    "  * * * *\n",
    "  * * * * *\n",
    "Row Index\n",
    "---------\n",
    "  0\n",
    "  1  1\n",
    "  2  2  2\n",
    "  3  3  3  3\n",
    "  4  4  4  4  4\n",
    "Column Index\n",
    "---------\n",
    "  0\n",
    "  0  1\n",
    "  0  1  2\n",
    "  0  1  2  3\n",
    "  0  1  2  3  4\n",
    "Cumulative Index\n",
    "---------\n",
    "  0\n",
    "  1  2\n",
    "  3  4  5\n",
    "  6  7  8  9 \n",
    " 10 11 12 13 14\n",
    "\n",
    "```"
   ],
   "execution_count": null,
   "outputs": []
  },
  {
   "cell_type": "code",
   "execution_count": 111,
   "metadata": {
    "collapsed": true,
    "jupyter": {
     "outputs_hidden": true
    }
   },
   "outputs": [
    {
     "output_type": "stream",
     "name": "stdout",
     "text": "* Character\n---------\n *\n * *\n * * *\n * * * *\n * * * * *\nRow Index\n---------\n  0\n  1  1\n  2  2  2\n  3  3  3  3\n  4  4  4  4  4\nColumn Index\n---------\n  0\n  0  1\n  0  1  2\n  0  1  2  3\n  0  1  2  3  4\nCumulative Index\n---------\n  0\n  1  2\n  3  4  5\n  6  7  8  9\n 10 11 12 13 14\n"
    }
   ],
   "source": [
    "n = int(input(\"Enter n\"))\n",
    "\n",
    "print(\"* Character\\n---------\")\n",
    "for j in range(1, n + 1):\n",
    "    line = ''\n",
    "    for i in range(1, j + 1):\n",
    "        line += '{:>2}'.format('*')\n",
    "    print(line)\n",
    "\n",
    "print(\"Row Index\\n---------\")\n",
    "for j in range(0, n):\n",
    "    line = ''\n",
    "    for i in range(0, j + 1):\n",
    "        line += '{:>3}'.format(j)\n",
    "    print(line)\n",
    "\n",
    "print('Column Index\\n---------')\n",
    "for j in range(0, n):\n",
    "    line = ''\n",
    "    for i in range(0, j + 1):\n",
    "        line += '{:>3}'.format(i)\n",
    "    print(line)\n",
    "\n",
    "print('Cumulative Index\\n---------')\n",
    "for j in range(0, n):\n",
    "    line = ''\n",
    "    for i in range(0, j + 1):\n",
    "        line += '{:>3}'.format(i + (j*(j + 1))//2)\n",
    "    print(line)"
   ]
  },
  {
   "cell_type": "markdown",
   "metadata": {},
   "source": [
    "4.3)\n",
    "Print an isosceles triangle with height and width equal to **n** and the right angled corner on the upper left.\n",
    "\n",
    "Tip:\n",
    "\n",
    "For the cumulative index you can use triangle numbers, though the forumula used in the previous question will need to be modified slightly. Alternatively, an extra variable can be used to keep track of the index.\n",
    "\n",
    "**eg:**: n = 5\n",
    "```\n",
    "* Character\n",
    "---------\n",
    "  * * * * *\n",
    "  * * * *\n",
    "  * * *\n",
    "  * *\n",
    "  *\n",
    "Row Index\n",
    "---------\n",
    "  0  0  0  0  0\n",
    "  1  1  1  1\n",
    "  2  2  2\n",
    "  3  3\n",
    "  4\n",
    "Column Index\n",
    "---------\n",
    "  0  1  2  3  4\n",
    "  0  1  2  3\n",
    "  0  1  2\n",
    "  0  1\n",
    "  0\n",
    "Cumulative Index\n",
    "---------\n",
    "  0  1  2  3  4\n",
    "  5  6  7  8\n",
    "  9 10 11\n",
    " 12 13\n",
    " 14\n",
    "```"
   ]
  },
  {
   "cell_type": "code",
   "execution_count": 119,
   "metadata": {},
   "outputs": [
    {
     "output_type": "stream",
     "name": "stdout",
     "text": "* Character\n---------\n * * * * *\n * * * *\n * * *\n * *\n *\nRow Index\n---------\n  0  0  0  0  0\n  1  1  1  1\n  2  2  2\n  3  3\n  4\nColumn Index\n---------\n  0  1  2  3  4\n  0  1  2  3\n  0  1  2\n  0  1\n  0\nCumulative Index\n---------\n  0  1  2  3  4\n  5  6  7  8\n  9 10 11\n 12 13\n 14\n"
    }
   ],
   "source": [
    "n = int(input(\"Enter n\"))\n",
    "\n",
    "print(\"* Character\\n---------\")\n",
    "for j in range(n):\n",
    "    line = ''\n",
    "    for i in range(n - j):\n",
    "        line += '{:>2}'.format('*')\n",
    "    print(line)\n",
    "\n",
    "print(\"Row Index\\n---------\")\n",
    "for j in range(n):\n",
    "    line = ''\n",
    "    for i in range(n - j):\n",
    "        line += '{:>3}'.format(j)\n",
    "    print(line)\n",
    "\n",
    "print('Column Index\\n---------')\n",
    "for j in range(n):\n",
    "    line = ''\n",
    "    for i in range(n - j):\n",
    "        line += '{:>3}'.format(i)\n",
    "    print(line)\n",
    "\n",
    "print('Cumulative Index\\n---------')\n",
    "for j in range(n):\n",
    "    line = ''\n",
    "    for i in range(n - j):\n",
    "        line += '{:>3}'.format((i)+(j*(j + 1))//2 +(n-j)*j)\n",
    "    print(line)"
   ]
  },
  {
   "cell_type": "markdown",
   "metadata": {},
   "source": [
    "## Question 5\n",
    "### Finding Prime Numbers\n",
    "\n",
    "Write code which finds all of the prime numbers between 2 and 100 and store them in a list.\n",
    "Then print the list of prime numbers.\n",
    "\n",
    "A prime number is a number which is only divisible by itself and 1.\n",
    "\n",
    "Some starting code has been provided."
   ],
   "execution_count": null,
   "outputs": []
  },
  {
   "cell_type": "code",
   "execution_count": 76,
   "metadata": {},
   "outputs": [
    {
     "output_type": "stream",
     "name": "stdout",
     "text": "[2, 3, 5, 7, 11, 13, 17, 19, 23, 29, 31, 37, 41, 43, 47, 53, 59, 61, 67, 71, 73, 79, 83, 89, 97]\n"
    }
   ],
   "source": [
    "results = []\n",
    "for i in range(2, 101):\n",
    "    prime = True\n",
    "    for j in range(2, (i//2) + 1):\n",
    "        if (i % j == 0):          \n",
    "            prime = False\n",
    "            break\n",
    "    if prime is True:\n",
    "        results.append(i)                      \n",
    "\n",
    "print(results)\n",
    "# expected output: [2, 3, 5, 7, 11, 13, 17, 19, 23, 29, 31, 37, 41, 43, 47, 53, 59, 61, 67, 71, 73, 79, 83, 89, 97]"
   ]
  },
  {
   "cell_type": "markdown",
   "metadata": {},
   "source": [
    "## Question 6\n",
    "### git and github\n",
    "\n",
    "Some information about git can be found here https://guides.github.com/introduction/git-handbook/ .\n",
    "\n",
    "\n",
    "1. Create a directory called '2020_itp_assignments'. \n",
    "    + **Do not** make this directory in the itp_2020 directory which contains the lecture material\n",
    "    + This is because a directory can only contain a single .git repository\n",
    "2. Add this Jupyter notebook to the directory you just created. (copy and paste it)\n",
    "3. Initialize this directory as a git repository\n",
    "4. Git add your assignment notebook to the repository\n",
    "    + This will move the file to the staging area\n",
    "5. Commit your assignment\n",
    "    + This saves a snapshot of the file you added\n",
    "6. On github.com create a new repository called 2020_itp_assigments\n",
    "7. Make this repo public when creating it.\n",
    "8. Link the github repository with your local repository\n",
    "    + Follow the instructions shown when you create the repo on GitHub\n",
    "9. Push your assignment / changes upstream to github\n",
    "10. Go to GitHub and make sure that the file you added is now online.\n"
   ],
   "execution_count": null,
   "outputs": []
  }
 ],
 "metadata": {
  "kernelspec": {
   "display_name": "Python 3",
   "language": "python",
   "name": "python3"
  },
  "language_info": {
   "codemirror_mode": {
    "name": "ipython",
    "version": 3
   },
   "file_extension": ".py",
   "mimetype": "text/x-python",
   "name": "python",
   "nbconvert_exporter": "python",
   "pygments_lexer": "ipython3",
   "version": "3.7.7-final"
  }
 },
 "nbformat": 4,
 "nbformat_minor": 4
}